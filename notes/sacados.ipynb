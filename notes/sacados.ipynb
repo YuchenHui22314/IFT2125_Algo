{
 "cells": [
  {
   "cell_type": "markdown",
   "metadata": {},
   "source": []
  },
  {
   "cell_type": "markdown",
   "metadata": {},
   "source": [
    "**candidats** : differents objets avec poids(w) et valeurs(v) respectivement\n",
    "\n",
    "**solution**: (x1,x2,...,xn) qui donne pour chaque objet, la fraction $x_i$ de l'objet incluse dnas le sac.\n",
    "\n",
    "**solution completable**: solution telle que $\\sum_{i=1}^nx_iw_i < W$\n",
    "\n",
    "**fonctions objective**$\\sum_{i=1}^nx_iw_i $\n",
    "\n",
    "**fonction de selection**: how to choose local maximum: reste a voir\n",
    "\n",
    "**note1**: Si $\\sum_{i=1}^nw_i < W$ on peut apporter tous les objets dans notre sac.\n",
    "\n",
    "**note2** dans cette version du probleme, on peut tourjour avoir une solution optimal."
   ]
  },
  {
   "cell_type": "code",
   "execution_count": 2,
   "metadata": {},
   "outputs": [
    {
     "name": "stdout",
     "output_type": "stream",
     "text": [
      "<zip object at 0x7f10c4d00488>\n",
      "[0.5, 0.6666666666666666, 0.5, 1.0, 0.8333333333333334]\n"
     ]
    }
   ],
   "source": [
    "#\n",
    "# x = list(range(n));'Droid Sans Mono', 'monospace', monospace, 'Droid Sans Fallback'\n",
    "n = 1\n",
    "def sacadosVor(W,w,v):\n",
    "    x = list(range(n)) \n",
    "    C = 0;\n",
    "    while C < W:\n",
    "        i = selectionLocal(w,v);\n",
    "        if C + w[i] <= W:\n",
    "            x[i] = 1                      #choisie\n",
    "            C = C + w[i]\n",
    "        else:\n",
    "            x[i] = (W - C)/w[i]      #une partie\n",
    "            C = W\n",
    "    return x\n",
    "\n",
    "#objet de + grande valeur, \n",
    "#but:sugmenter la valeur dans le sac le \n",
    "#plus vite que possible\n",
    "# def selectionLocal_1(w,v):\n",
    "    \n",
    "#objet le + leger\n",
    "#but: plus d'objets possible et donc d'avoir plus la valeur\n",
    "# def selectionLocal_2(w,v):\n",
    "\n",
    "#objet avec unite de poid max\n",
    "#melange des deux derniers\n",
    "# def selectionLocal_3(w,v):\n",
    "\n",
    "w = [10,20,30,40,50]\n",
    "v = [20,30,60,40,60]\n",
    "print(zip(w,v))\n",
    "rou = list(map(lambda x : float(x[0])/float(x[1]), zip(w,v)))\n",
    "print(rou)\n",
    "\n"
   ]
  }
 ],
 "metadata": {
  "interpreter": {
   "hash": "31f2aee4e71d21fbe5cf8b01ff0e069b9275f58929596ceb00d14d90e3e16cd6"
  },
  "kernelspec": {
   "display_name": "Python 3.6.9 64-bit",
   "language": "python",
   "name": "python3"
  },
  "language_info": {
   "codemirror_mode": {
    "name": "ipython",
    "version": 3
   },
   "file_extension": ".py",
   "mimetype": "text/x-python",
   "name": "python",
   "nbconvert_exporter": "python",
   "pygments_lexer": "ipython3",
   "version": "3.6.9"
  },
  "orig_nbformat": 4
 },
 "nbformat": 4,
 "nbformat_minor": 2
}
